{
 "cells": [
  {
   "cell_type": "markdown",
   "metadata": {},
   "source": [
    "# Quick overview\n",
    "We want to compare odometry of RIO with RH and LH Radar coordinate frames.\n",
    "LH versions are denoted by `defaultRIO` and RH by `modRIO` in the filename, followed by unique identifiers.\n",
    "\n",
    "\n",
    "Topics of interest;\n",
    "- `/rio/odometry_navigation`: RIO output\n",
    "- `/radar/vrpn_client/estimated_odometry`: Vicon ground-truth (GT) odometry"
   ]
  },
  {
   "cell_type": "markdown",
   "metadata": {},
   "source": []
  }
 ],
 "metadata": {
  "kernelspec": {
   "display_name": "Radar_python312",
   "language": "python",
   "name": "python3"
  },
  "language_info": {
   "name": "python",
   "version": "3.12.0"
  }
 },
 "nbformat": 4,
 "nbformat_minor": 2
}
